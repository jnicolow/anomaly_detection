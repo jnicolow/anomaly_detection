{
 "cells": [
  {
   "cell_type": "code",
   "execution_count": 45,
   "id": "47890148",
   "metadata": {},
   "outputs": [],
   "source": [
    "import os\n",
    "from glob import glob\n",
    "import pandas as pd\n",
    "import matplotlib.pyplot as plt"
   ]
  },
  {
   "cell_type": "markdown",
   "id": "a1e965e0",
   "metadata": {},
   "source": [
    "# Clean up data"
   ]
  },
  {
   "cell_type": "code",
   "execution_count": 74,
   "id": "e77a73de",
   "metadata": {},
   "outputs": [
    {
     "name": "stdout",
     "output_type": "stream",
     "text": [
      "Bad count 82665, good count 3766465\n",
      "\n",
      "Overall Bad Counts per Variable:\n"
     ]
    },
    {
     "data": {
      "text/html": [
       "<div>\n",
       "<style scoped>\n",
       "    .dataframe tbody tr th:only-of-type {\n",
       "        vertical-align: middle;\n",
       "    }\n",
       "\n",
       "    .dataframe tbody tr th {\n",
       "        vertical-align: top;\n",
       "    }\n",
       "\n",
       "    .dataframe thead th {\n",
       "        text-align: right;\n",
       "    }\n",
       "</style>\n",
       "<table border=\"1\" class=\"dataframe\">\n",
       "  <thead>\n",
       "    <tr style=\"text-align: right;\">\n",
       "      <th></th>\n",
       "      <th>sta119</th>\n",
       "      <th>sta151</th>\n",
       "      <th>sta152</th>\n",
       "      <th>sta161</th>\n",
       "      <th>Total</th>\n",
       "    </tr>\n",
       "    <tr>\n",
       "      <th>var</th>\n",
       "      <th></th>\n",
       "      <th></th>\n",
       "      <th></th>\n",
       "      <th></th>\n",
       "      <th></th>\n",
       "    </tr>\n",
       "  </thead>\n",
       "  <tbody>\n",
       "    <tr>\n",
       "      <th>RF</th>\n",
       "      <td>15272</td>\n",
       "      <td>2000</td>\n",
       "      <td>15</td>\n",
       "      <td>2</td>\n",
       "      <td>17289</td>\n",
       "    </tr>\n",
       "    <tr>\n",
       "      <th>RH_1</th>\n",
       "      <td>1934</td>\n",
       "      <td>6233</td>\n",
       "      <td>2499</td>\n",
       "      <td>14347</td>\n",
       "      <td>25013</td>\n",
       "    </tr>\n",
       "    <tr>\n",
       "      <th>SWup</th>\n",
       "      <td>5149</td>\n",
       "      <td>5261</td>\n",
       "      <td>4786</td>\n",
       "      <td>40</td>\n",
       "      <td>15236</td>\n",
       "    </tr>\n",
       "    <tr>\n",
       "      <th>Tair_1</th>\n",
       "      <td>959</td>\n",
       "      <td>7371</td>\n",
       "      <td>5852</td>\n",
       "      <td>10945</td>\n",
       "      <td>25127</td>\n",
       "    </tr>\n",
       "  </tbody>\n",
       "</table>\n",
       "</div>"
      ],
      "text/plain": [
       "        sta119  sta151  sta152  sta161  Total\n",
       "var                                          \n",
       "RF       15272    2000      15       2  17289\n",
       "RH_1      1934    6233    2499   14347  25013\n",
       "SWup      5149    5261    4786      40  15236\n",
       "Tair_1     959    7371    5852   10945  25127"
      ]
     },
     "metadata": {},
     "output_type": "display_data"
    }
   ],
   "source": [
    "csv_fns = glob(os.path.join('data', 'raw', '*.csv'))\n",
    "\n",
    "bad_counts_per_var = []\n",
    "\n",
    "overall_bad_count = 0\n",
    "overall_good_count = 0\n",
    "\n",
    "for i, fn in enumerate(csv_fns):\n",
    "    df = pd.read_csv(fn)\n",
    "    df = df[df['DT'].str.contains(\":\")]\n",
    "    df['DT'] = pd.to_datetime(df['DT'])\n",
    "    bad_count = df[df['bad'] == True]['bad'].count()\n",
    "    overall_bad_count += bad_count\n",
    "    good_count = df[df['bad'] == False]['bad'].count()\n",
    "    overall_good_count += good_count\n",
    "\n",
    "    # print(f\"File {i + 1}: {fn}\")\n",
    "    # print(f\"  Good Count: {good_count}\")\n",
    "    # print(f\"  Bad Count: {bad_count}\")\n",
    "    # print()\n",
    "\n",
    "    bad_counts = df[df['bad'] == True].groupby('var').size()  # Number of bad values per variable\n",
    "    bad_counts_per_var.append(bad_counts)\n",
    "\n",
    "    # if i % 2 == 0:\n",
    "    #     # if even then take FIRST 4 years as held out test data\n",
    "    #     test_df = df[df['DT'].dt.year <= 1996]\n",
    "    #     train_df = df[df['DT'].dt.year > 1996]\n",
    "    # else:\n",
    "    #     # if odd take the LAST 4 years as training data\n",
    "    #     test_df = df[df['DT'].dt.year >= 2018]\n",
    "    #     train_df = df[df['DT'].dt.year < 2018]\n",
    "\n",
    "    # assert (df.shape[0] == test_df.shape[0] + train_df.shape[0])\n",
    "\n",
    "    \n",
    "    # test_fn = os.path.join('data', 'test', f'test_{os.path.basename(fn)}')\n",
    "    # test_df.to_csv(test_fn, index=False)\n",
    "    # train_fn = os.path.join('data', 'train', f'train_{os.path.basename(fn)}')\n",
    "    # train_df.to_csv(train_fn, index=False)\n",
    "\n",
    "    # plt.plot(df['DT'], df['bad'])\n",
    "    # plt.show()\n",
    "    \n",
    "    # display(df)\n",
    "\n",
    "print(f'Bad count {overall_bad_count}, good count {overall_good_count}')\n",
    "\n",
    "bad_counts_df = pd.concat(bad_counts_per_var, axis=1).fillna(0).astype(int)\n",
    "bad_counts_df.columns = [os.path.basename(fn).replace('.csv', '') for fn in csv_fns]\n",
    "\n",
    "bad_counts_df['Total'] = bad_counts_df.sum(axis=1)\n",
    "\n",
    "print(\"\\nOverall Bad Counts per Variable:\")\n",
    "display(bad_counts_df)"
   ]
  },
  {
   "cell_type": "markdown",
   "id": "ae68a841",
   "metadata": {},
   "source": [
    "# explore dataset"
   ]
  },
  {
   "cell_type": "code",
   "execution_count": null,
   "id": "02a9485c",
   "metadata": {},
   "outputs": [],
   "source": []
  },
  {
   "cell_type": "markdown",
   "id": "2588015d",
   "metadata": {},
   "source": [
    "# Load data for site wise (leave-one-out) models\n",
    "For this we just "
   ]
  },
  {
   "cell_type": "code",
   "execution_count": 53,
   "id": "3b39e804",
   "metadata": {},
   "outputs": [
    {
     "name": "stdout",
     "output_type": "stream",
     "text": [
      "for station 119 42255 rows with only date\n",
      "for station 151 42922 rows with only date\n",
      "for station 152 44835 rows with only date\n",
      "for station 161 36897 rows with only date\n"
     ]
    }
   ],
   "source": [
    "# df_list = [\n",
    "#     pd.read_csv(r'https://raw.githubusercontent.com/jnicolow/anomaly_detection/refs/heads/main/data/raw/sta119.csv'),\n",
    "#     pd.read_csv(r'https://raw.githubusercontent.com/jnicolow/anomaly_detection/refs/heads/main/data/raw/sta151.csv'),\n",
    "#     pd.read_csv(r'https://raw.githubusercontent.com/jnicolow/anomaly_detection/refs/heads/main/data/raw/sta152.csv'),\n",
    "#     pd.read_csv(r'https://raw.githubusercontent.com/jnicolow/anomaly_detection/refs/heads/main/data/raw/sta161.csv')\n",
    "# ]\n",
    "\n",
    "df_list = [\n",
    "    pd.read_csv(os.path.join('data', 'raw', 'sta119.csv')),\n",
    "    pd.read_csv(os.path.join('data', 'raw', 'sta151.csv')),\n",
    "    pd.read_csv(os.path.join('data', 'raw', 'sta152.csv')),\n",
    "    pd.read_csv(os.path.join('data', 'raw', 'sta161.csv'))\n",
    "]\n",
    "\n",
    "\n",
    "\n",
    "processed_df_list = []\n",
    "for df in df_list:\n",
    "    station_id = df['staID'][0]\n",
    "    full_len = df.shape[0]\n",
    "    df = df[df['DT'].str.contains(\":\")].copy() # remove ones with just the date\n",
    "    print(f'for station {station_id} {full_len - df.shape[0]} rows with only date')\n",
    "    df['DT'] = pd.to_datetime(df['DT'])\n",
    "    # df = df.sort_values('DT')\n",
    "    processed_df_list.append(df)\n",
    "\n",
    "df_list = processed_df_list"
   ]
  },
  {
   "cell_type": "code",
   "execution_count": 54,
   "id": "87597f99",
   "metadata": {},
   "outputs": [
    {
     "data": {
      "text/html": [
       "<div>\n",
       "<style scoped>\n",
       "    .dataframe tbody tr th:only-of-type {\n",
       "        vertical-align: middle;\n",
       "    }\n",
       "\n",
       "    .dataframe tbody tr th {\n",
       "        vertical-align: top;\n",
       "    }\n",
       "\n",
       "    .dataframe thead th {\n",
       "        text-align: right;\n",
       "    }\n",
       "</style>\n",
       "<table border=\"1\" class=\"dataframe\">\n",
       "  <thead>\n",
       "    <tr style=\"text-align: right;\">\n",
       "      <th></th>\n",
       "      <th>staID</th>\n",
       "      <th>DT</th>\n",
       "      <th>value</th>\n",
       "      <th>var</th>\n",
       "      <th>bad</th>\n",
       "    </tr>\n",
       "  </thead>\n",
       "  <tbody>\n",
       "    <tr>\n",
       "      <th>0</th>\n",
       "      <td>119</td>\n",
       "      <td>1990-01-01 01:00:00</td>\n",
       "      <td>137.0000</td>\n",
       "      <td>RF</td>\n",
       "      <td>False</td>\n",
       "    </tr>\n",
       "    <tr>\n",
       "      <th>1</th>\n",
       "      <td>119</td>\n",
       "      <td>1990-01-01 01:00:00</td>\n",
       "      <td>94.6200</td>\n",
       "      <td>RH_1</td>\n",
       "      <td>False</td>\n",
       "    </tr>\n",
       "    <tr>\n",
       "      <th>2</th>\n",
       "      <td>119</td>\n",
       "      <td>1990-01-01 01:00:00</td>\n",
       "      <td>-0.4651</td>\n",
       "      <td>SWup</td>\n",
       "      <td>False</td>\n",
       "    </tr>\n",
       "    <tr>\n",
       "      <th>3</th>\n",
       "      <td>119</td>\n",
       "      <td>1990-01-01 01:00:00</td>\n",
       "      <td>14.6200</td>\n",
       "      <td>Tair_1</td>\n",
       "      <td>False</td>\n",
       "    </tr>\n",
       "    <tr>\n",
       "      <th>4</th>\n",
       "      <td>119</td>\n",
       "      <td>1990-01-01 02:00:00</td>\n",
       "      <td>6.0000</td>\n",
       "      <td>RF</td>\n",
       "      <td>False</td>\n",
       "    </tr>\n",
       "    <tr>\n",
       "      <th>...</th>\n",
       "      <td>...</td>\n",
       "      <td>...</td>\n",
       "      <td>...</td>\n",
       "      <td>...</td>\n",
       "      <td>...</td>\n",
       "    </tr>\n",
       "    <tr>\n",
       "      <th>1024125</th>\n",
       "      <td>119</td>\n",
       "      <td>2021-09-10 08:00:00</td>\n",
       "      <td>17.5100</td>\n",
       "      <td>Tair_1</td>\n",
       "      <td>False</td>\n",
       "    </tr>\n",
       "    <tr>\n",
       "      <th>1024126</th>\n",
       "      <td>119</td>\n",
       "      <td>2021-09-10 09:00:00</td>\n",
       "      <td>0.0000</td>\n",
       "      <td>RF</td>\n",
       "      <td>False</td>\n",
       "    </tr>\n",
       "    <tr>\n",
       "      <th>1024127</th>\n",
       "      <td>119</td>\n",
       "      <td>2021-09-10 09:00:00</td>\n",
       "      <td>64.4400</td>\n",
       "      <td>RH_1</td>\n",
       "      <td>False</td>\n",
       "    </tr>\n",
       "    <tr>\n",
       "      <th>1024128</th>\n",
       "      <td>119</td>\n",
       "      <td>2021-09-10 09:00:00</td>\n",
       "      <td>492.7750</td>\n",
       "      <td>SWup</td>\n",
       "      <td>False</td>\n",
       "    </tr>\n",
       "    <tr>\n",
       "      <th>1024129</th>\n",
       "      <td>119</td>\n",
       "      <td>2021-09-10 09:00:00</td>\n",
       "      <td>19.6800</td>\n",
       "      <td>Tair_1</td>\n",
       "      <td>False</td>\n",
       "    </tr>\n",
       "  </tbody>\n",
       "</table>\n",
       "<p>981879 rows × 5 columns</p>\n",
       "</div>"
      ],
      "text/plain": [
       "         staID                  DT     value     var    bad\n",
       "0          119 1990-01-01 01:00:00  137.0000      RF  False\n",
       "1          119 1990-01-01 01:00:00   94.6200    RH_1  False\n",
       "2          119 1990-01-01 01:00:00   -0.4651    SWup  False\n",
       "3          119 1990-01-01 01:00:00   14.6200  Tair_1  False\n",
       "4          119 1990-01-01 02:00:00    6.0000      RF  False\n",
       "...        ...                 ...       ...     ...    ...\n",
       "1024125    119 2021-09-10 08:00:00   17.5100  Tair_1  False\n",
       "1024126    119 2021-09-10 09:00:00    0.0000      RF  False\n",
       "1024127    119 2021-09-10 09:00:00   64.4400    RH_1  False\n",
       "1024128    119 2021-09-10 09:00:00  492.7750    SWup  False\n",
       "1024129    119 2021-09-10 09:00:00   19.6800  Tair_1  False\n",
       "\n",
       "[981879 rows x 5 columns]"
      ]
     },
     "execution_count": 54,
     "metadata": {},
     "output_type": "execute_result"
    }
   ],
   "source": [
    "df_list[0]"
   ]
  },
  {
   "cell_type": "code",
   "execution_count": 55,
   "id": "a7ec4904",
   "metadata": {},
   "outputs": [],
   "source": [
    "for i, test_df in enumerate(df_list):\n",
    "    train_dfs = df_list[:i] + df_list[i+1:]\n"
   ]
  },
  {
   "cell_type": "markdown",
   "id": "e155b12e",
   "metadata": {},
   "source": [
    "# Load data for site-specific models"
   ]
  },
  {
   "cell_type": "code",
   "execution_count": 56,
   "id": "98b88789",
   "metadata": {},
   "outputs": [
    {
     "data": {
      "text/plain": [
       "bad\n",
       "False    824516\n",
       "True      25334\n",
       "Name: count, dtype: int64"
      ]
     },
     "execution_count": 56,
     "metadata": {},
     "output_type": "execute_result"
    }
   ],
   "source": [
    "df['bad'].value_counts()"
   ]
  },
  {
   "cell_type": "code",
   "execution_count": 58,
   "id": "2d621939",
   "metadata": {},
   "outputs": [
    {
     "data": {
      "text/html": [
       "<div>\n",
       "<style scoped>\n",
       "    .dataframe tbody tr th:only-of-type {\n",
       "        vertical-align: middle;\n",
       "    }\n",
       "\n",
       "    .dataframe tbody tr th {\n",
       "        vertical-align: top;\n",
       "    }\n",
       "\n",
       "    .dataframe thead th {\n",
       "        text-align: right;\n",
       "    }\n",
       "</style>\n",
       "<table border=\"1\" class=\"dataframe\">\n",
       "  <thead>\n",
       "    <tr style=\"text-align: right;\">\n",
       "      <th></th>\n",
       "      <th>staID</th>\n",
       "      <th>DT</th>\n",
       "      <th>value</th>\n",
       "      <th>var</th>\n",
       "      <th>bad</th>\n",
       "    </tr>\n",
       "  </thead>\n",
       "  <tbody>\n",
       "    <tr>\n",
       "      <th>0</th>\n",
       "      <td>119</td>\n",
       "      <td>1990-01-01 01:00:00</td>\n",
       "      <td>137.0000</td>\n",
       "      <td>RF</td>\n",
       "      <td>False</td>\n",
       "    </tr>\n",
       "    <tr>\n",
       "      <th>1</th>\n",
       "      <td>119</td>\n",
       "      <td>1990-01-01 01:00:00</td>\n",
       "      <td>94.6200</td>\n",
       "      <td>RH_1</td>\n",
       "      <td>False</td>\n",
       "    </tr>\n",
       "    <tr>\n",
       "      <th>2</th>\n",
       "      <td>119</td>\n",
       "      <td>1990-01-01 01:00:00</td>\n",
       "      <td>-0.4651</td>\n",
       "      <td>SWup</td>\n",
       "      <td>False</td>\n",
       "    </tr>\n",
       "    <tr>\n",
       "      <th>3</th>\n",
       "      <td>119</td>\n",
       "      <td>1990-01-01 01:00:00</td>\n",
       "      <td>14.6200</td>\n",
       "      <td>Tair_1</td>\n",
       "      <td>False</td>\n",
       "    </tr>\n",
       "    <tr>\n",
       "      <th>4</th>\n",
       "      <td>119</td>\n",
       "      <td>1990-01-01 02:00:00</td>\n",
       "      <td>6.0000</td>\n",
       "      <td>RF</td>\n",
       "      <td>False</td>\n",
       "    </tr>\n",
       "    <tr>\n",
       "      <th>...</th>\n",
       "      <td>...</td>\n",
       "      <td>...</td>\n",
       "      <td>...</td>\n",
       "      <td>...</td>\n",
       "      <td>...</td>\n",
       "    </tr>\n",
       "    <tr>\n",
       "      <th>1024125</th>\n",
       "      <td>119</td>\n",
       "      <td>2021-09-10 08:00:00</td>\n",
       "      <td>17.5100</td>\n",
       "      <td>Tair_1</td>\n",
       "      <td>False</td>\n",
       "    </tr>\n",
       "    <tr>\n",
       "      <th>1024126</th>\n",
       "      <td>119</td>\n",
       "      <td>2021-09-10 09:00:00</td>\n",
       "      <td>0.0000</td>\n",
       "      <td>RF</td>\n",
       "      <td>False</td>\n",
       "    </tr>\n",
       "    <tr>\n",
       "      <th>1024127</th>\n",
       "      <td>119</td>\n",
       "      <td>2021-09-10 09:00:00</td>\n",
       "      <td>64.4400</td>\n",
       "      <td>RH_1</td>\n",
       "      <td>False</td>\n",
       "    </tr>\n",
       "    <tr>\n",
       "      <th>1024128</th>\n",
       "      <td>119</td>\n",
       "      <td>2021-09-10 09:00:00</td>\n",
       "      <td>492.7750</td>\n",
       "      <td>SWup</td>\n",
       "      <td>False</td>\n",
       "    </tr>\n",
       "    <tr>\n",
       "      <th>1024129</th>\n",
       "      <td>119</td>\n",
       "      <td>2021-09-10 09:00:00</td>\n",
       "      <td>19.6800</td>\n",
       "      <td>Tair_1</td>\n",
       "      <td>False</td>\n",
       "    </tr>\n",
       "  </tbody>\n",
       "</table>\n",
       "<p>981879 rows × 5 columns</p>\n",
       "</div>"
      ],
      "text/plain": [
       "         staID                  DT     value     var    bad\n",
       "0          119 1990-01-01 01:00:00  137.0000      RF  False\n",
       "1          119 1990-01-01 01:00:00   94.6200    RH_1  False\n",
       "2          119 1990-01-01 01:00:00   -0.4651    SWup  False\n",
       "3          119 1990-01-01 01:00:00   14.6200  Tair_1  False\n",
       "4          119 1990-01-01 02:00:00    6.0000      RF  False\n",
       "...        ...                 ...       ...     ...    ...\n",
       "1024125    119 2021-09-10 08:00:00   17.5100  Tair_1  False\n",
       "1024126    119 2021-09-10 09:00:00    0.0000      RF  False\n",
       "1024127    119 2021-09-10 09:00:00   64.4400    RH_1  False\n",
       "1024128    119 2021-09-10 09:00:00  492.7750    SWup  False\n",
       "1024129    119 2021-09-10 09:00:00   19.6800  Tair_1  False\n",
       "\n",
       "[981879 rows x 5 columns]"
      ]
     },
     "execution_count": 58,
     "metadata": {},
     "output_type": "execute_result"
    }
   ],
   "source": [
    "df_list[0]"
   ]
  },
  {
   "cell_type": "code",
   "execution_count": 68,
   "id": "7d6dceaa",
   "metadata": {},
   "outputs": [
    {
     "data": {
      "text/plain": [
       "Series([], Name: count, dtype: int64)"
      ]
     },
     "execution_count": 68,
     "metadata": {},
     "output_type": "execute_result"
    }
   ],
   "source": [
    "df_var['bad'].value_counts()"
   ]
  },
  {
   "cell_type": "code",
   "execution_count": 69,
   "id": "10ad3dba",
   "metadata": {},
   "outputs": [],
   "source": [
    "import matplotlib.pyplot as plt\n",
    "from datetime import timedelta\n",
    "\n",
    "var_name = 'RH'\n",
    "\n",
    "\n",
    "df_var = df[df['var'] == var_name].sort_values('DT') # we are only looking at one variable\n",
    "# df_var = df_var[df_var['DT'].dt.year == 1996]\n",
    "for dt in df_var[df_var['bad'] == True]['DT']:\n",
    "    start_time = dt - timedelta(weeks=1)\n",
    "    end_time = dt + timedelta(weeks=1)\n",
    "\n",
    "    window_df = df_var[(df_var['DT'] >= start_time) & (df_var['DT'] <= end_time)]\n",
    "\n",
    "\n",
    "    anomaly_times = window_df[window_df['bad'] == True]['DT'] # get all anomalies in window\n",
    "\n",
    "    # Plot values\n",
    "    plt.figure(figsize=(10, 4))\n",
    "    plt.plot(window_df['DT'], window_df['value'], label='Value')\n",
    "\n",
    "    # Mark all anomalies with red dashed lines\n",
    "    for anomaly_dt in anomaly_times:\n",
    "        plt.axvline(anomaly_dt, color='red', linestyle='--', alpha=0.7)\n",
    "\n",
    "    plt.title(f\"{var_name} - Window around anomaly at {dt}\")\n",
    "    plt.xlabel('Time')\n",
    "    plt.ylabel('Value')\n",
    "    plt.legend()\n",
    "    plt.tight_layout()\n",
    "    plt.show()\n"
   ]
  },
  {
   "cell_type": "code",
   "execution_count": 48,
   "id": "6b5e43ee",
   "metadata": {},
   "outputs": [
    {
     "data": {
      "text/plain": [
       "bad\n",
       "False    215878\n",
       "True          2\n",
       "Name: count, dtype: int64"
      ]
     },
     "execution_count": 48,
     "metadata": {},
     "output_type": "execute_result"
    }
   ],
   "source": [
    "df_var['bad'].value_counts()"
   ]
  },
  {
   "cell_type": "code",
   "execution_count": 38,
   "id": "acc8d477",
   "metadata": {},
   "outputs": [
    {
     "data": {
      "image/png": "[encoded data removed]",
      "text/plain": [
       "<Figure size 640x480 with 1 Axes>"
      ]
     },
     "metadata": {},
     "output_type": "display_data"
    }
   ],
   "source": [
    "plt.plot(df['DT'], df['bad'])\n",
    "plt.show()"
   ]
  }
 ],
 "metadata": {
  "kernelspec": {
   "display_name": "fogvision",
   "language": "python",
   "name": "python3"
  },
  "language_info": {
   "codemirror_mode": {
    "name": "ipython",
    "version": 3
   },
   "file_extension": ".py",
   "mimetype": "text/x-python",
   "name": "python",
   "nbconvert_exporter": "python",
   "pygments_lexer": "ipython3",
   "version": "3.11.5"
  }
 },
 "nbformat": 4,
 "nbformat_minor": 5
}
